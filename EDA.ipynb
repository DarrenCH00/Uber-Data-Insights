{
 "cells": [
  {
   "cell_type": "code",
   "execution_count": 1,
   "id": "a4974f59-26b3-4aa4-a4b9-5b1e48d9133f",
   "metadata": {},
   "outputs": [],
   "source": [
    "import pandas as pd\n",
    "import numpy as np\n",
    "import matplotlib.pyplot as plt\n",
    "import seaborn as sns"
   ]
  },
  {
   "cell_type": "code",
   "execution_count": 2,
   "id": "1936b133-1d6e-488f-ad4d-e5e352cfa1da",
   "metadata": {},
   "outputs": [],
   "source": [
    "df_EDA = pd.read_csv(\"EDA/dataset_1.csv\")"
   ]
  },
  {
   "cell_type": "code",
   "execution_count": 3,
   "id": "82158d7e-4089-4e04-9f17-ae2072a0358d",
   "metadata": {},
   "outputs": [
    {
     "data": {
      "text/html": [
       "<div>\n",
       "<style scoped>\n",
       "    .dataframe tbody tr th:only-of-type {\n",
       "        vertical-align: middle;\n",
       "    }\n",
       "\n",
       "    .dataframe tbody tr th {\n",
       "        vertical-align: top;\n",
       "    }\n",
       "\n",
       "    .dataframe thead th {\n",
       "        text-align: right;\n",
       "    }\n",
       "</style>\n",
       "<table border=\"1\" class=\"dataframe\">\n",
       "  <thead>\n",
       "    <tr style=\"text-align: right;\">\n",
       "      <th></th>\n",
       "      <th>Date</th>\n",
       "      <th>Time (Local)</th>\n",
       "      <th>Eyeballs</th>\n",
       "      <th>Zeroes</th>\n",
       "      <th>Completed Trips</th>\n",
       "      <th>Requests</th>\n",
       "      <th>Unique Drivers</th>\n",
       "    </tr>\n",
       "  </thead>\n",
       "  <tbody>\n",
       "    <tr>\n",
       "      <th>0</th>\n",
       "      <td>10-Sep-12</td>\n",
       "      <td>7</td>\n",
       "      <td>5</td>\n",
       "      <td>0</td>\n",
       "      <td>2</td>\n",
       "      <td>2</td>\n",
       "      <td>9</td>\n",
       "    </tr>\n",
       "    <tr>\n",
       "      <th>1</th>\n",
       "      <td>NaN</td>\n",
       "      <td>8</td>\n",
       "      <td>6</td>\n",
       "      <td>0</td>\n",
       "      <td>2</td>\n",
       "      <td>2</td>\n",
       "      <td>14</td>\n",
       "    </tr>\n",
       "    <tr>\n",
       "      <th>2</th>\n",
       "      <td>NaN</td>\n",
       "      <td>9</td>\n",
       "      <td>8</td>\n",
       "      <td>3</td>\n",
       "      <td>0</td>\n",
       "      <td>0</td>\n",
       "      <td>14</td>\n",
       "    </tr>\n",
       "    <tr>\n",
       "      <th>3</th>\n",
       "      <td>NaN</td>\n",
       "      <td>10</td>\n",
       "      <td>9</td>\n",
       "      <td>2</td>\n",
       "      <td>0</td>\n",
       "      <td>1</td>\n",
       "      <td>14</td>\n",
       "    </tr>\n",
       "    <tr>\n",
       "      <th>4</th>\n",
       "      <td>NaN</td>\n",
       "      <td>11</td>\n",
       "      <td>11</td>\n",
       "      <td>1</td>\n",
       "      <td>4</td>\n",
       "      <td>4</td>\n",
       "      <td>11</td>\n",
       "    </tr>\n",
       "    <tr>\n",
       "      <th>5</th>\n",
       "      <td>NaN</td>\n",
       "      <td>12</td>\n",
       "      <td>12</td>\n",
       "      <td>0</td>\n",
       "      <td>2</td>\n",
       "      <td>2</td>\n",
       "      <td>11</td>\n",
       "    </tr>\n",
       "    <tr>\n",
       "      <th>6</th>\n",
       "      <td>NaN</td>\n",
       "      <td>13</td>\n",
       "      <td>9</td>\n",
       "      <td>1</td>\n",
       "      <td>0</td>\n",
       "      <td>0</td>\n",
       "      <td>9</td>\n",
       "    </tr>\n",
       "    <tr>\n",
       "      <th>7</th>\n",
       "      <td>NaN</td>\n",
       "      <td>14</td>\n",
       "      <td>12</td>\n",
       "      <td>1</td>\n",
       "      <td>0</td>\n",
       "      <td>0</td>\n",
       "      <td>9</td>\n",
       "    </tr>\n",
       "    <tr>\n",
       "      <th>8</th>\n",
       "      <td>NaN</td>\n",
       "      <td>15</td>\n",
       "      <td>11</td>\n",
       "      <td>2</td>\n",
       "      <td>1</td>\n",
       "      <td>2</td>\n",
       "      <td>7</td>\n",
       "    </tr>\n",
       "    <tr>\n",
       "      <th>9</th>\n",
       "      <td>NaN</td>\n",
       "      <td>16</td>\n",
       "      <td>11</td>\n",
       "      <td>2</td>\n",
       "      <td>3</td>\n",
       "      <td>4</td>\n",
       "      <td>6</td>\n",
       "    </tr>\n",
       "  </tbody>\n",
       "</table>\n",
       "</div>"
      ],
      "text/plain": [
       "        Date  Time (Local)  Eyeballs   Zeroes   Completed Trips   Requests   \\\n",
       "0  10-Sep-12             7          5        0                 2          2   \n",
       "1        NaN             8          6        0                 2          2   \n",
       "2        NaN             9          8        3                 0          0   \n",
       "3        NaN            10          9        2                 0          1   \n",
       "4        NaN            11         11        1                 4          4   \n",
       "5        NaN            12         12        0                 2          2   \n",
       "6        NaN            13          9        1                 0          0   \n",
       "7        NaN            14         12        1                 0          0   \n",
       "8        NaN            15         11        2                 1          2   \n",
       "9        NaN            16         11        2                 3          4   \n",
       "\n",
       "   Unique Drivers  \n",
       "0               9  \n",
       "1              14  \n",
       "2              14  \n",
       "3              14  \n",
       "4              11  \n",
       "5              11  \n",
       "6               9  \n",
       "7               9  \n",
       "8               7  \n",
       "9               6  "
      ]
     },
     "execution_count": 3,
     "metadata": {},
     "output_type": "execute_result"
    }
   ],
   "source": [
    "df_EDA.head(10)"
   ]
  },
  {
   "cell_type": "code",
   "execution_count": 4,
   "id": "c5bea166-5fe9-4828-abaf-db10ebc1e31a",
   "metadata": {},
   "outputs": [],
   "source": [
    "# removes white spaces in column names\n",
    "df_EDA.columns = df_EDA.columns.str.strip()\n"
   ]
  },
  {
   "cell_type": "code",
   "execution_count": 5,
   "id": "0a83e8eb-a2ca-4fd7-a125-ce01f7b8f6b6",
   "metadata": {},
   "outputs": [],
   "source": [
    "#We use ffill because we use the previous value to fill the nulls \n",
    "df_EDA['Date'] = df_EDA['Date'].ffill()\n"
   ]
  },
  {
   "cell_type": "code",
   "execution_count": 6,
   "id": "76b11b2b-7fe3-4736-8ad3-a08a350b7db9",
   "metadata": {},
   "outputs": [
    {
     "data": {
      "text/plain": [
       "Date               object\n",
       "Time (Local)        int64\n",
       "Eyeballs            int64\n",
       "Zeroes              int64\n",
       "Completed Trips     int64\n",
       "Requests            int64\n",
       "Unique Drivers      int64\n",
       "dtype: object"
      ]
     },
     "execution_count": 6,
     "metadata": {},
     "output_type": "execute_result"
    }
   ],
   "source": [
    "df_EDA.dtypes"
   ]
  },
  {
   "cell_type": "code",
   "execution_count": 7,
   "id": "00ed1372-c60d-47a0-b6b5-7a5f65b596b0",
   "metadata": {},
   "outputs": [],
   "source": [
    "#We want to change Time(Local) into a time format\n",
    "df_EDA['Time (Local)'] = pd.to_datetime(df_EDA['Time (Local)'], format='%H').dt.time\n"
   ]
  },
  {
   "cell_type": "code",
   "execution_count": 8,
   "id": "0ddcf5a6-b013-4f72-b381-94794cbc699a",
   "metadata": {},
   "outputs": [
    {
     "name": "stdout",
     "output_type": "stream",
     "text": [
      "Date with the most completed trips: 22-Sep-12\n"
     ]
    }
   ],
   "source": [
    "# Question 1: Which date had the most completed trips during the two-week period?\n",
    "agg_df_EDA = df_EDA.groupby('Date').agg(Completed_Trips =('Completed Trips', 'sum'))\n",
    "max_trips_row = agg_df_EDA[agg_df_EDA['Completed_Trips'] == agg_df_EDA['Completed_Trips'].max()]\n",
    "\n",
    "date = max_trips_row.index[0]\n",
    "print ('Date with the most completed trips:',date )"
   ]
  },
  {
   "cell_type": "code",
   "execution_count": 9,
   "id": "771eb6f6-12ea-44b0-aea6-195f38ef1065",
   "metadata": {},
   "outputs": [
    {
     "data": {
      "image/png": "[encoded data removed]",
      "text/plain": [
       "<Figure size 1000x600 with 1 Axes>"
      ]
     },
     "metadata": {},
     "output_type": "display_data"
    }
   ],
   "source": [
    "#Answering question 1 using visualization\n",
    "plt.figure(figsize=(10, 6))\n",
    "sns.barplot(x='Date', y='Completed_Trips', data=agg_df_EDA)\n",
    "plt.xticks(rotation=90)\n",
    "plt.title('Completed Trips by Date')\n",
    "plt.xlabel('Date')\n",
    "plt.ylabel('Completed Trips')\n",
    "plt.show()"
   ]
  },
  {
   "cell_type": "code",
   "execution_count": 10,
   "id": "cbbf73dd-a75e-4629-88ec-c41d9f16a8c5",
   "metadata": {},
   "outputs": [],
   "source": [
    "# Question 2: What was the highest number of completed trips within a 24-hour period?\n",
    "  \n",
    "df_EDA['Timestamp'] = pd.to_datetime(\n",
    "    df_EDA['Date'].astype(str) + ' ' + df_EDA['Time (Local)'].astype(str),\n",
    "    format='%d-%b-%y %H:%M:%S'  # Explicit format specification\n",
    ")\n",
    "\n"
   ]
  },
  {
   "cell_type": "code",
   "execution_count": 11,
   "id": "18fcb6f4-e175-44f3-b075-bf4541f9ac38",
   "metadata": {},
   "outputs": [],
   "source": [
    "df_EDA[\"Interval\"] = df_EDA['Timestamp'].apply( lambda timestamp: pd.Interval(timestamp, timestamp + pd.Timedelta(hours=24), closed = 'left'))"
   ]
  },
  {
   "cell_type": "code",
   "execution_count": 42,
   "id": "562ed6e1-7381-425f-86f1-6e635574a0cb",
   "metadata": {},
   "outputs": [],
   "source": [
    "# Sum \"Completed Trips\" where timestamps fall into each row's interval\n",
    "df_EDA[\"Sum_Completed_Trips_In_Interval\"] = df_EDA.apply(\n",
    "    lambda row: df_EDA.loc[\n",
    "        df_EDA[\"Timestamp\"].between(\n",
    "            row[\"Interval\"].left,\n",
    "            row[\"Interval\"].right,\n",
    "            inclusive=\"left\"\n",
    "        ),\n",
    "        \"Completed Trips\"  # Column to sum\n",
    "    ].sum(),\n",
    "    axis=1\n",
    ")"
   ]
  },
  {
   "cell_type": "code",
   "execution_count": 120,
   "id": "d7238cc4-d1da-40cb-a430-cfc1bd293559",
   "metadata": {},
   "outputs": [
    {
     "name": "stdout",
     "output_type": "stream",
     "text": [
      "The interval: [2012-09-21 17:00:00, 2012-09-22 17:00:00) has the most completed trips: 278\n"
     ]
    }
   ],
   "source": [
    "max_trips_timestamp = df_EDA[df_EDA['Sum_Completed_Trips_In_Interval'] == df_EDA['Sum_Completed_Trips_In_Interval'].max()]\n",
    "\n",
    "interval_trips = max_trips_timestamp['Sum_Completed_Trips_In_Interval'].iloc[0]\n",
    "\n",
    "interval_date = max_trips_timestamp['Interval'].iloc[0]\n",
    "\n",
    "print ('The interval:' ,interval_date, 'has the most completed trips:',interval_trips )"
   ]
  },
  {
   "cell_type": "code",
   "execution_count": 136,
   "id": "d4913685-7c8e-4c84-9228-07c363aa6925",
   "metadata": {},
   "outputs": [],
   "source": [
    "# Question 3: Which hour of the day had the most requests during the two-week period?\n",
    "df_hour = df_EDA.groupby('Time (Local)').agg(Requests =('Requests', 'sum'))\n",
    "\n"
   ]
  },
  {
   "cell_type": "code",
   "execution_count": 138,
   "id": "707a4afb-b301-40c3-a597-4307e7d4bfcf",
   "metadata": {},
   "outputs": [
    {
     "data": {
      "text/html": [
       "<div>\n",
       "<style scoped>\n",
       "    .dataframe tbody tr th:only-of-type {\n",
       "        vertical-align: middle;\n",
       "    }\n",
       "\n",
       "    .dataframe tbody tr th {\n",
       "        vertical-align: top;\n",
       "    }\n",
       "\n",
       "    .dataframe thead th {\n",
       "        text-align: right;\n",
       "    }\n",
       "</style>\n",
       "<table border=\"1\" class=\"dataframe\">\n",
       "  <thead>\n",
       "    <tr style=\"text-align: right;\">\n",
       "      <th></th>\n",
       "      <th>Requests</th>\n",
       "    </tr>\n",
       "    <tr>\n",
       "      <th>Time (Local)</th>\n",
       "      <th></th>\n",
       "    </tr>\n",
       "  </thead>\n",
       "  <tbody>\n",
       "    <tr>\n",
       "      <th>00:00:00</th>\n",
       "      <td>142</td>\n",
       "    </tr>\n",
       "    <tr>\n",
       "      <th>01:00:00</th>\n",
       "      <td>96</td>\n",
       "    </tr>\n",
       "    <tr>\n",
       "      <th>02:00:00</th>\n",
       "      <td>100</td>\n",
       "    </tr>\n",
       "    <tr>\n",
       "      <th>03:00:00</th>\n",
       "      <td>35</td>\n",
       "    </tr>\n",
       "    <tr>\n",
       "      <th>04:00:00</th>\n",
       "      <td>9</td>\n",
       "    </tr>\n",
       "    <tr>\n",
       "      <th>05:00:00</th>\n",
       "      <td>14</td>\n",
       "    </tr>\n",
       "    <tr>\n",
       "      <th>06:00:00</th>\n",
       "      <td>28</td>\n",
       "    </tr>\n",
       "    <tr>\n",
       "      <th>07:00:00</th>\n",
       "      <td>22</td>\n",
       "    </tr>\n",
       "    <tr>\n",
       "      <th>08:00:00</th>\n",
       "      <td>29</td>\n",
       "    </tr>\n",
       "    <tr>\n",
       "      <th>09:00:00</th>\n",
       "      <td>26</td>\n",
       "    </tr>\n",
       "    <tr>\n",
       "      <th>10:00:00</th>\n",
       "      <td>28</td>\n",
       "    </tr>\n",
       "    <tr>\n",
       "      <th>11:00:00</th>\n",
       "      <td>47</td>\n",
       "    </tr>\n",
       "    <tr>\n",
       "      <th>12:00:00</th>\n",
       "      <td>53</td>\n",
       "    </tr>\n",
       "    <tr>\n",
       "      <th>13:00:00</th>\n",
       "      <td>55</td>\n",
       "    </tr>\n",
       "    <tr>\n",
       "      <th>14:00:00</th>\n",
       "      <td>71</td>\n",
       "    </tr>\n",
       "    <tr>\n",
       "      <th>15:00:00</th>\n",
       "      <td>71</td>\n",
       "    </tr>\n",
       "    <tr>\n",
       "      <th>16:00:00</th>\n",
       "      <td>82</td>\n",
       "    </tr>\n",
       "    <tr>\n",
       "      <th>17:00:00</th>\n",
       "      <td>98</td>\n",
       "    </tr>\n",
       "    <tr>\n",
       "      <th>18:00:00</th>\n",
       "      <td>119</td>\n",
       "    </tr>\n",
       "    <tr>\n",
       "      <th>19:00:00</th>\n",
       "      <td>156</td>\n",
       "    </tr>\n",
       "    <tr>\n",
       "      <th>20:00:00</th>\n",
       "      <td>107</td>\n",
       "    </tr>\n",
       "    <tr>\n",
       "      <th>21:00:00</th>\n",
       "      <td>112</td>\n",
       "    </tr>\n",
       "    <tr>\n",
       "      <th>22:00:00</th>\n",
       "      <td>174</td>\n",
       "    </tr>\n",
       "    <tr>\n",
       "      <th>23:00:00</th>\n",
       "      <td>184</td>\n",
       "    </tr>\n",
       "  </tbody>\n",
       "</table>\n",
       "</div>"
      ],
      "text/plain": [
       "              Requests\n",
       "Time (Local)          \n",
       "00:00:00           142\n",
       "01:00:00            96\n",
       "02:00:00           100\n",
       "03:00:00            35\n",
       "04:00:00             9\n",
       "05:00:00            14\n",
       "06:00:00            28\n",
       "07:00:00            22\n",
       "08:00:00            29\n",
       "09:00:00            26\n",
       "10:00:00            28\n",
       "11:00:00            47\n",
       "12:00:00            53\n",
       "13:00:00            55\n",
       "14:00:00            71\n",
       "15:00:00            71\n",
       "16:00:00            82\n",
       "17:00:00            98\n",
       "18:00:00           119\n",
       "19:00:00           156\n",
       "20:00:00           107\n",
       "21:00:00           112\n",
       "22:00:00           174\n",
       "23:00:00           184"
      ]
     },
     "execution_count": 138,
     "metadata": {},
     "output_type": "execute_result"
    }
   ],
   "source": [
    "df_hour"
   ]
  },
  {
   "cell_type": "code",
   "execution_count": 144,
   "id": "24c2902a-15ca-4c7f-9724-e1378d469264",
   "metadata": {},
   "outputs": [
    {
     "data": {
      "image/png": "[encoded data removed]",
      "text/plain": [
       "<Figure size 1000x600 with 1 Axes>"
      ]
     },
     "metadata": {},
     "output_type": "display_data"
    }
   ],
   "source": [
    "plt.figure(figsize = (10,6))\n",
    "sns.barplot(x = 'Time (Local)', y ='Requests', data = df_hour)\n",
    "plt.xticks(rotation=90)\n",
    "plt.title('Request by hour')\n",
    "plt.xlabel('Hour')\n",
    "plt.ylabel('Requests')\n",
    "plt.show()"
   ]
  },
  {
   "cell_type": "code",
   "execution_count": 236,
   "id": "f559eb71-ad5b-490a-aec4-2cf1c708dc3d",
   "metadata": {},
   "outputs": [
    {
     "name": "stdout",
     "output_type": "stream",
     "text": [
      "The percentage of weekend zeroes: 45.066480055983206 %\n"
     ]
    },
    {
     "name": "stderr",
     "output_type": "stream",
     "text": [
      "C:\\Users\\darre\\AppData\\Local\\Temp\\ipykernel_21372\\390669655.py:2: UserWarning: Could not infer format, so each element will be parsed individually, falling back to `dateutil`. To ensure parsing is consistent and as-expected, please specify a format.\n",
      "  df_EDA['Day'] = pd.to_datetime(df_EDA['Date']).dt.dayofweek\n",
      "C:\\Users\\darre\\AppData\\Local\\Temp\\ipykernel_21372\\390669655.py:5: UserWarning: Could not infer format, so each element will be parsed individually, falling back to `dateutil`. To ensure parsing is consistent and as-expected, please specify a format.\n",
      "  df_EDA['Hour'] = pd.to_datetime(df_EDA['Hour']).dt.hour\n"
     ]
    }
   ],
   "source": [
    "# Question 4: What percentage of all zeroes during the two-week period occurred on the weekend (Friday at 5 pm to Sunday at 3 am)?\n",
    "df_EDA['Day'] = pd.to_datetime(df_EDA['Date']).dt.dayofweek\n",
    "\n",
    "df_EDA['Hour'] = df_EDA['Time (Local)'].astype(str)\n",
    "df_EDA['Hour'] = pd.to_datetime(df_EDA['Hour']).dt.hour\n",
    "\n",
    "weekend = df_EDA[(df_EDA['Day'] == 4) & (df_EDA['Hour'] >= 17) | (df_EDA['Day'] == 5) | (df_EDA['Day'] == 6) & (df_EDA['Hour'] <= 3)]\n",
    "total_Zeroes = df_EDA['Zeroes'].sum()\n",
    "weekend_Zeroes = weekend['Zeroes'].sum()\n",
    "percentage = (weekend_Zeros / total_Zeros) * 100\n",
    "weekday_Zeroes = total_Zeroes - weekend_Zeroes\n",
    "print('The percentage of weekend zeroes:', percentage, '%')"
   ]
  },
  {
   "cell_type": "code",
   "execution_count": 242,
   "id": "0a80acc3-a3f0-46d1-a762-b7d9f54918d2",
   "metadata": {},
   "outputs": [
    {
     "data": {
      "image/png": "[encoded data removed]",
      "text/plain": [
       "<Figure size 1000x600 with 1 Axes>"
      ]
     },
     "metadata": {},
     "output_type": "display_data"
    }
   ],
   "source": [
    "plt.figure(figsize=(10,6))\n",
    "sns.barplot(x = ['Weekday Zeroes','Weekend Zeroes'], y = [weekday_Zeroes, weekend_Zeroes])\n",
    "plt.title('Zeroes Distribution: Weekday vs Weekend')\n",
    "plt.xlabel('Category')\n",
    "plt.ylabel('Zeroes')\n",
    "plt.show()"
   ]
  },
  {
   "cell_type": "code",
   "execution_count": 326,
   "id": "16274732-0b66-4a69-bca0-bf09292f014e",
   "metadata": {},
   "outputs": [
    {
     "name": "stdout",
     "output_type": "stream",
     "text": [
      "The Weighted average ratio of completed trips per driver: 0.5141349415755748\n"
     ]
    },
    {
     "name": "stderr",
     "output_type": "stream",
     "text": [
      "C:\\Users\\darre\\AppData\\Local\\Temp\\ipykernel_21372\\2314119927.py:3: SettingWithCopyWarning: \n",
      "A value is trying to be set on a copy of a slice from a DataFrame.\n",
      "Try using .loc[row_indexer,col_indexer] = value instead\n",
      "\n",
      "See the caveats in the documentation: https://pandas.pydata.org/pandas-docs/stable/user_guide/indexing.html#returning-a-view-versus-a-copy\n",
      "  df_drivers['ratio'] = df_drivers['Completed Trips'] / df_drivers['Unique Drivers']\n"
     ]
    }
   ],
   "source": [
    "# Question 5: What is the weighted average ratio of completed trips per driver during the two-week period?\n",
    "df_drivers = df_EDA[df_EDA['Unique Drivers'] >0] \n",
    "df_drivers['ratio'] = df_drivers['Completed Trips'] / df_drivers['Unique Drivers']\n",
    "value = sum(df_drivers['Unique Drivers']*df_drivers['ratio'])\n",
    "weight = sum(df_drivers['Unique Drivers'])\n",
    "print(\"The Weighted average ratio of completed trips per driver:\", value/weight)\n"
   ]
  },
  {
   "cell_type": "code",
   "execution_count": null,
   "id": "e43873f9-4c9d-4272-818b-982e73e3cf36",
   "metadata": {},
   "outputs": [],
   "source": [
    "# Question 6: In drafting a driver schedule in terms of 8 hours shifts, when are the busiest 8 consecutive hours over the two week period in terms of unique requests?\n"
   ]
  }
 ],
 "metadata": {
  "kernelspec": {
   "display_name": "Python [conda env:base] *",
   "language": "python",
   "name": "conda-base-py"
  },
  "language_info": {
   "codemirror_mode": {
    "name": "ipython",
    "version": 3
   },
   "file_extension": ".py",
   "mimetype": "text/x-python",
   "name": "python",
   "nbconvert_exporter": "python",
   "pygments_lexer": "ipython3",
   "version": "3.12.7"
  }
 },
 "nbformat": 4,
 "nbformat_minor": 5
}
